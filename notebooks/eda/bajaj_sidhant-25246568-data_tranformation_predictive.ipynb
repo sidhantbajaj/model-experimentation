{
 "cells": [
  {
   "cell_type": "code",
   "execution_count": 1,
   "id": "d9ef720a-cd6d-41df-b1fb-a22c42d65351",
   "metadata": {},
   "outputs": [],
   "source": [
    "import pandas as pd\n",
    "import numpy as np\n",
    "from sklearn.preprocessing import StandardScaler, OneHotEncoder, OrdinalEncoder\n",
    "from category_encoders import TargetEncoder\n",
    "from cstm_pkg_grp_9.data.sets import pop_target\n",
    "from joblib import dump\n",
    "import os"
   ]
  },
  {
   "cell_type": "markdown",
   "id": "9d305562-3574-48ce-b560-376dcb7a6662",
   "metadata": {},
   "source": [
    "# Load Data"
   ]
  },
  {
   "cell_type": "code",
   "execution_count": 2,
   "id": "12721931-f7c6-4d90-9ede-9784f6c56167",
   "metadata": {},
   "outputs": [],
   "source": [
    "train_data = pd.read_csv(\"../../data/interim/train_data_cleaned.csv\")\n",
    "test_data = pd.read_csv(\"../../data/interim/test_data_cleaned.csv\")"
   ]
  },
  {
   "cell_type": "markdown",
   "id": "fa3a0f22-8530-4d9f-a8c0-28aaab466c71",
   "metadata": {},
   "source": [
    "# Verify Data"
   ]
  },
  {
   "cell_type": "markdown",
   "id": "b7148232-a499-4f1d-bfea-0d2270c2d5e8",
   "metadata": {},
   "source": [
    "## Train data"
   ]
  },
  {
   "cell_type": "code",
   "execution_count": 3,
   "id": "de915330-d8db-4ce6-8d3f-8e7a88241a69",
   "metadata": {},
   "outputs": [
    {
     "name": "stdout",
     "output_type": "stream",
     "text": [
      "<class 'pandas.core.frame.DataFrame'>\n",
      "RangeIndex: 34720691 entries, 0 to 34720690\n",
      "Data columns (total 9 columns):\n",
      " #   Column         Dtype  \n",
      "---  ------         -----  \n",
      " 0   item_id        object \n",
      " 1   dept_id        object \n",
      " 2   cat_id         object \n",
      " 3   store_id       object \n",
      " 4   state_id       object \n",
      " 5   sales_revenue  float64\n",
      " 6   year           int64  \n",
      " 7   month          int64  \n",
      " 8   day            int64  \n",
      "dtypes: float64(1), int64(3), object(5)\n",
      "memory usage: 2.3+ GB\n"
     ]
    }
   ],
   "source": [
    "train_data.info()"
   ]
  },
  {
   "cell_type": "code",
   "execution_count": 4,
   "id": "06f8de2d-b37c-42ed-bcdd-5cc9b5d3e5f1",
   "metadata": {},
   "outputs": [
    {
     "data": {
      "text/html": [
       "<div>\n",
       "<style scoped>\n",
       "    .dataframe tbody tr th:only-of-type {\n",
       "        vertical-align: middle;\n",
       "    }\n",
       "\n",
       "    .dataframe tbody tr th {\n",
       "        vertical-align: top;\n",
       "    }\n",
       "\n",
       "    .dataframe thead th {\n",
       "        text-align: right;\n",
       "    }\n",
       "</style>\n",
       "<table border=\"1\" class=\"dataframe\">\n",
       "  <thead>\n",
       "    <tr style=\"text-align: right;\">\n",
       "      <th></th>\n",
       "      <th>item_id</th>\n",
       "      <th>dept_id</th>\n",
       "      <th>cat_id</th>\n",
       "      <th>store_id</th>\n",
       "      <th>state_id</th>\n",
       "      <th>sales_revenue</th>\n",
       "      <th>year</th>\n",
       "      <th>month</th>\n",
       "      <th>day</th>\n",
       "    </tr>\n",
       "  </thead>\n",
       "  <tbody>\n",
       "    <tr>\n",
       "      <th>0</th>\n",
       "      <td>HOBBIES_1_008</td>\n",
       "      <td>HOBBIES_1</td>\n",
       "      <td>HOBBIES</td>\n",
       "      <td>CA_1</td>\n",
       "      <td>CA</td>\n",
       "      <td>5.52</td>\n",
       "      <td>2011</td>\n",
       "      <td>1</td>\n",
       "      <td>29</td>\n",
       "    </tr>\n",
       "    <tr>\n",
       "      <th>1</th>\n",
       "      <td>HOBBIES_1_009</td>\n",
       "      <td>HOBBIES_1</td>\n",
       "      <td>HOBBIES</td>\n",
       "      <td>CA_1</td>\n",
       "      <td>CA</td>\n",
       "      <td>3.12</td>\n",
       "      <td>2011</td>\n",
       "      <td>1</td>\n",
       "      <td>29</td>\n",
       "    </tr>\n",
       "    <tr>\n",
       "      <th>2</th>\n",
       "      <td>HOBBIES_1_010</td>\n",
       "      <td>HOBBIES_1</td>\n",
       "      <td>HOBBIES</td>\n",
       "      <td>CA_1</td>\n",
       "      <td>CA</td>\n",
       "      <td>0.00</td>\n",
       "      <td>2011</td>\n",
       "      <td>1</td>\n",
       "      <td>29</td>\n",
       "    </tr>\n",
       "    <tr>\n",
       "      <th>3</th>\n",
       "      <td>HOBBIES_1_012</td>\n",
       "      <td>HOBBIES_1</td>\n",
       "      <td>HOBBIES</td>\n",
       "      <td>CA_1</td>\n",
       "      <td>CA</td>\n",
       "      <td>0.00</td>\n",
       "      <td>2011</td>\n",
       "      <td>1</td>\n",
       "      <td>29</td>\n",
       "    </tr>\n",
       "    <tr>\n",
       "      <th>4</th>\n",
       "      <td>HOBBIES_1_015</td>\n",
       "      <td>HOBBIES_1</td>\n",
       "      <td>HOBBIES</td>\n",
       "      <td>CA_1</td>\n",
       "      <td>CA</td>\n",
       "      <td>2.80</td>\n",
       "      <td>2011</td>\n",
       "      <td>1</td>\n",
       "      <td>29</td>\n",
       "    </tr>\n",
       "  </tbody>\n",
       "</table>\n",
       "</div>"
      ],
      "text/plain": [
       "         item_id    dept_id   cat_id store_id state_id  sales_revenue  year  \\\n",
       "0  HOBBIES_1_008  HOBBIES_1  HOBBIES     CA_1       CA           5.52  2011   \n",
       "1  HOBBIES_1_009  HOBBIES_1  HOBBIES     CA_1       CA           3.12  2011   \n",
       "2  HOBBIES_1_010  HOBBIES_1  HOBBIES     CA_1       CA           0.00  2011   \n",
       "3  HOBBIES_1_012  HOBBIES_1  HOBBIES     CA_1       CA           0.00  2011   \n",
       "4  HOBBIES_1_015  HOBBIES_1  HOBBIES     CA_1       CA           2.80  2011   \n",
       "\n",
       "   month  day  \n",
       "0      1   29  \n",
       "1      1   29  \n",
       "2      1   29  \n",
       "3      1   29  \n",
       "4      1   29  "
      ]
     },
     "execution_count": 4,
     "metadata": {},
     "output_type": "execute_result"
    }
   ],
   "source": [
    "train_data.head()"
   ]
  },
  {
   "cell_type": "code",
   "execution_count": 5,
   "id": "04959524-85b1-4390-9a19-e29a7395917b",
   "metadata": {},
   "outputs": [
    {
     "data": {
      "text/plain": [
       "(34720691, 9)"
      ]
     },
     "execution_count": 5,
     "metadata": {},
     "output_type": "execute_result"
    }
   ],
   "source": [
    "train_data.shape"
   ]
  },
  {
   "cell_type": "markdown",
   "id": "45b86d37-dfcd-4ec4-97bb-3709c3bd7832",
   "metadata": {},
   "source": [
    "## Test data"
   ]
  },
  {
   "cell_type": "code",
   "execution_count": 6,
   "id": "caa61cfe-9fad-467e-9295-ef134cf6f8ad",
   "metadata": {},
   "outputs": [
    {
     "name": "stdout",
     "output_type": "stream",
     "text": [
      "<class 'pandas.core.frame.DataFrame'>\n",
      "RangeIndex: 12160986 entries, 0 to 12160985\n",
      "Data columns (total 9 columns):\n",
      " #   Column         Dtype  \n",
      "---  ------         -----  \n",
      " 0   item_id        object \n",
      " 1   dept_id        object \n",
      " 2   cat_id         object \n",
      " 3   store_id       object \n",
      " 4   state_id       object \n",
      " 5   sales_revenue  float64\n",
      " 6   year           int64  \n",
      " 7   month          int64  \n",
      " 8   day            int64  \n",
      "dtypes: float64(1), int64(3), object(5)\n",
      "memory usage: 835.0+ MB\n"
     ]
    }
   ],
   "source": [
    "test_data.info()"
   ]
  },
  {
   "cell_type": "code",
   "execution_count": 7,
   "id": "02d20e00-10c3-486d-83df-853b4810a27a",
   "metadata": {},
   "outputs": [
    {
     "data": {
      "text/html": [
       "<div>\n",
       "<style scoped>\n",
       "    .dataframe tbody tr th:only-of-type {\n",
       "        vertical-align: middle;\n",
       "    }\n",
       "\n",
       "    .dataframe tbody tr th {\n",
       "        vertical-align: top;\n",
       "    }\n",
       "\n",
       "    .dataframe thead th {\n",
       "        text-align: right;\n",
       "    }\n",
       "</style>\n",
       "<table border=\"1\" class=\"dataframe\">\n",
       "  <thead>\n",
       "    <tr style=\"text-align: right;\">\n",
       "      <th></th>\n",
       "      <th>item_id</th>\n",
       "      <th>dept_id</th>\n",
       "      <th>cat_id</th>\n",
       "      <th>store_id</th>\n",
       "      <th>state_id</th>\n",
       "      <th>sales_revenue</th>\n",
       "      <th>year</th>\n",
       "      <th>month</th>\n",
       "      <th>day</th>\n",
       "    </tr>\n",
       "  </thead>\n",
       "  <tbody>\n",
       "    <tr>\n",
       "      <th>0</th>\n",
       "      <td>HOBBIES_1_001</td>\n",
       "      <td>HOBBIES_1</td>\n",
       "      <td>HOBBIES</td>\n",
       "      <td>CA_1</td>\n",
       "      <td>CA</td>\n",
       "      <td>0.00</td>\n",
       "      <td>2015</td>\n",
       "      <td>4</td>\n",
       "      <td>19</td>\n",
       "    </tr>\n",
       "    <tr>\n",
       "      <th>1</th>\n",
       "      <td>HOBBIES_1_002</td>\n",
       "      <td>HOBBIES_1</td>\n",
       "      <td>HOBBIES</td>\n",
       "      <td>CA_1</td>\n",
       "      <td>CA</td>\n",
       "      <td>0.00</td>\n",
       "      <td>2015</td>\n",
       "      <td>4</td>\n",
       "      <td>19</td>\n",
       "    </tr>\n",
       "    <tr>\n",
       "      <th>2</th>\n",
       "      <td>HOBBIES_1_003</td>\n",
       "      <td>HOBBIES_1</td>\n",
       "      <td>HOBBIES</td>\n",
       "      <td>CA_1</td>\n",
       "      <td>CA</td>\n",
       "      <td>0.00</td>\n",
       "      <td>2015</td>\n",
       "      <td>4</td>\n",
       "      <td>19</td>\n",
       "    </tr>\n",
       "    <tr>\n",
       "      <th>3</th>\n",
       "      <td>HOBBIES_1_004</td>\n",
       "      <td>HOBBIES_1</td>\n",
       "      <td>HOBBIES</td>\n",
       "      <td>CA_1</td>\n",
       "      <td>CA</td>\n",
       "      <td>18.56</td>\n",
       "      <td>2015</td>\n",
       "      <td>4</td>\n",
       "      <td>19</td>\n",
       "    </tr>\n",
       "    <tr>\n",
       "      <th>4</th>\n",
       "      <td>HOBBIES_1_005</td>\n",
       "      <td>HOBBIES_1</td>\n",
       "      <td>HOBBIES</td>\n",
       "      <td>CA_1</td>\n",
       "      <td>CA</td>\n",
       "      <td>8.64</td>\n",
       "      <td>2015</td>\n",
       "      <td>4</td>\n",
       "      <td>19</td>\n",
       "    </tr>\n",
       "  </tbody>\n",
       "</table>\n",
       "</div>"
      ],
      "text/plain": [
       "         item_id    dept_id   cat_id store_id state_id  sales_revenue  year  \\\n",
       "0  HOBBIES_1_001  HOBBIES_1  HOBBIES     CA_1       CA           0.00  2015   \n",
       "1  HOBBIES_1_002  HOBBIES_1  HOBBIES     CA_1       CA           0.00  2015   \n",
       "2  HOBBIES_1_003  HOBBIES_1  HOBBIES     CA_1       CA           0.00  2015   \n",
       "3  HOBBIES_1_004  HOBBIES_1  HOBBIES     CA_1       CA          18.56  2015   \n",
       "4  HOBBIES_1_005  HOBBIES_1  HOBBIES     CA_1       CA           8.64  2015   \n",
       "\n",
       "   month  day  \n",
       "0      4   19  \n",
       "1      4   19  \n",
       "2      4   19  \n",
       "3      4   19  \n",
       "4      4   19  "
      ]
     },
     "execution_count": 7,
     "metadata": {},
     "output_type": "execute_result"
    }
   ],
   "source": [
    "test_data.head()"
   ]
  },
  {
   "cell_type": "markdown",
   "id": "46949776-06f2-447b-a287-9a4065fb6b3a",
   "metadata": {},
   "source": [
    "The data seems to be intact and as per requirements"
   ]
  },
  {
   "cell_type": "markdown",
   "id": "6adc973c-3dc5-45bf-bc3a-01404aed1e77",
   "metadata": {},
   "source": [
    "# Data Transformation"
   ]
  },
  {
   "cell_type": "code",
   "execution_count": 8,
   "id": "ef326d72-28a9-4bd3-9e67-9cbb4257f815",
   "metadata": {},
   "outputs": [],
   "source": [
    "features_train, target_train = pop_target(train_data, 'sales_revenue')\n",
    "features_test, target_test = pop_target(test_data, 'sales_revenue')"
   ]
  },
  {
   "cell_type": "markdown",
   "id": "ab80594a-4b08-44fe-98dc-cd650a0fa2b1",
   "metadata": {},
   "source": [
    "## Target Mean Encoding"
   ]
  },
  {
   "cell_type": "markdown",
   "id": "589a4b0d-ba52-416c-8e99-98bb02a93267",
   "metadata": {},
   "source": [
    "'item_id' features contains 3049 features. If it is One hot encoded then that will increase he dimensions. Therefore, target mean encoding will be applied."
   ]
  },
  {
   "cell_type": "code",
   "execution_count": 9,
   "id": "6a16ffff-0d5b-444c-a6ba-3f6e5cde418f",
   "metadata": {},
   "outputs": [],
   "source": [
    "tme = TargetEncoder(cols=['item_id'])"
   ]
  },
  {
   "cell_type": "markdown",
   "id": "5366fef4-13a8-4093-9704-19a5419f5c64",
   "metadata": {},
   "source": [
    "### Train Set"
   ]
  },
  {
   "cell_type": "code",
   "execution_count": 10,
   "id": "a03c626a-3814-422c-a89f-b4f188d3e8c1",
   "metadata": {},
   "outputs": [],
   "source": [
    "tm_features_train = tme.fit_transform(features_train, target_train)"
   ]
  },
  {
   "cell_type": "code",
   "execution_count": 11,
   "id": "5af279f5-b247-495c-873e-6af32b0032a0",
   "metadata": {},
   "outputs": [
    {
     "data": {
      "text/plain": [
       "(34720691, 8)"
      ]
     },
     "execution_count": 11,
     "metadata": {},
     "output_type": "execute_result"
    }
   ],
   "source": [
    "tm_features_train.shape"
   ]
  },
  {
   "cell_type": "markdown",
   "id": "0c54b2ea-bd42-41d3-9daa-a08fdc03d251",
   "metadata": {},
   "source": [
    "### Test Set"
   ]
  },
  {
   "cell_type": "code",
   "execution_count": 12,
   "id": "940d929a-5d38-484d-baf4-153f542f0971",
   "metadata": {},
   "outputs": [],
   "source": [
    "tm_features_test = tme.transform(features_test)"
   ]
  },
  {
   "cell_type": "code",
   "execution_count": 13,
   "id": "5df8ccf5-a4da-47c3-a0ad-e1841a69fd9e",
   "metadata": {},
   "outputs": [
    {
     "data": {
      "text/plain": [
       "(12160986, 8)"
      ]
     },
     "execution_count": 13,
     "metadata": {},
     "output_type": "execute_result"
    }
   ],
   "source": [
    "tm_features_test.shape"
   ]
  },
  {
   "cell_type": "code",
   "execution_count": 14,
   "id": "0379a451-d8e4-44ba-84ef-9c6f1d37e3e3",
   "metadata": {},
   "outputs": [
    {
     "data": {
      "text/html": [
       "<div>\n",
       "<style scoped>\n",
       "    .dataframe tbody tr th:only-of-type {\n",
       "        vertical-align: middle;\n",
       "    }\n",
       "\n",
       "    .dataframe tbody tr th {\n",
       "        vertical-align: top;\n",
       "    }\n",
       "\n",
       "    .dataframe thead th {\n",
       "        text-align: right;\n",
       "    }\n",
       "</style>\n",
       "<table border=\"1\" class=\"dataframe\">\n",
       "  <thead>\n",
       "    <tr style=\"text-align: right;\">\n",
       "      <th></th>\n",
       "      <th>item_id</th>\n",
       "      <th>dept_id</th>\n",
       "      <th>cat_id</th>\n",
       "      <th>store_id</th>\n",
       "      <th>state_id</th>\n",
       "      <th>year</th>\n",
       "      <th>month</th>\n",
       "      <th>day</th>\n",
       "    </tr>\n",
       "  </thead>\n",
       "  <tbody>\n",
       "    <tr>\n",
       "      <th>0</th>\n",
       "      <td>2.248204</td>\n",
       "      <td>HOBBIES_1</td>\n",
       "      <td>HOBBIES</td>\n",
       "      <td>CA_1</td>\n",
       "      <td>CA</td>\n",
       "      <td>2011</td>\n",
       "      <td>1</td>\n",
       "      <td>29</td>\n",
       "    </tr>\n",
       "    <tr>\n",
       "      <th>1</th>\n",
       "      <td>1.537946</td>\n",
       "      <td>HOBBIES_1</td>\n",
       "      <td>HOBBIES</td>\n",
       "      <td>CA_1</td>\n",
       "      <td>CA</td>\n",
       "      <td>2011</td>\n",
       "      <td>1</td>\n",
       "      <td>29</td>\n",
       "    </tr>\n",
       "    <tr>\n",
       "      <th>2</th>\n",
       "      <td>1.891180</td>\n",
       "      <td>HOBBIES_1</td>\n",
       "      <td>HOBBIES</td>\n",
       "      <td>CA_1</td>\n",
       "      <td>CA</td>\n",
       "      <td>2011</td>\n",
       "      <td>1</td>\n",
       "      <td>29</td>\n",
       "    </tr>\n",
       "    <tr>\n",
       "      <th>3</th>\n",
       "      <td>2.724936</td>\n",
       "      <td>HOBBIES_1</td>\n",
       "      <td>HOBBIES</td>\n",
       "      <td>CA_1</td>\n",
       "      <td>CA</td>\n",
       "      <td>2011</td>\n",
       "      <td>1</td>\n",
       "      <td>29</td>\n",
       "    </tr>\n",
       "    <tr>\n",
       "      <th>4</th>\n",
       "      <td>3.205972</td>\n",
       "      <td>HOBBIES_1</td>\n",
       "      <td>HOBBIES</td>\n",
       "      <td>CA_1</td>\n",
       "      <td>CA</td>\n",
       "      <td>2011</td>\n",
       "      <td>1</td>\n",
       "      <td>29</td>\n",
       "    </tr>\n",
       "  </tbody>\n",
       "</table>\n",
       "</div>"
      ],
      "text/plain": [
       "    item_id    dept_id   cat_id store_id state_id  year  month  day\n",
       "0  2.248204  HOBBIES_1  HOBBIES     CA_1       CA  2011      1   29\n",
       "1  1.537946  HOBBIES_1  HOBBIES     CA_1       CA  2011      1   29\n",
       "2  1.891180  HOBBIES_1  HOBBIES     CA_1       CA  2011      1   29\n",
       "3  2.724936  HOBBIES_1  HOBBIES     CA_1       CA  2011      1   29\n",
       "4  3.205972  HOBBIES_1  HOBBIES     CA_1       CA  2011      1   29"
      ]
     },
     "execution_count": 14,
     "metadata": {},
     "output_type": "execute_result"
    }
   ],
   "source": [
    "tm_features_train.head()"
   ]
  },
  {
   "cell_type": "markdown",
   "id": "e713521a-eeda-43a6-8033-39b09fff14fa",
   "metadata": {},
   "source": [
    "## Ordinal Encoding"
   ]
  },
  {
   "cell_type": "markdown",
   "id": "0d3c4fb2-6d76-4352-b42b-7c7dd8e30b6c",
   "metadata": {},
   "source": [
    "Categorical features such as dept_id, store_id, cat_id and state_id will be changed to numerical values using ordinal encoder."
   ]
  },
  {
   "cell_type": "code",
   "execution_count": 16,
   "id": "ae843cf2-935c-4708-ace6-9407b79c2a17",
   "metadata": {},
   "outputs": [],
   "source": [
    "oe = OrdinalEncoder(dtype=int)"
   ]
  },
  {
   "cell_type": "code",
   "execution_count": 17,
   "id": "9aed9ca0-4a41-47da-b2ad-833940bfd8a1",
   "metadata": {},
   "outputs": [],
   "source": [
    "tm_features_train[['dept_id', 'store_id', 'cat_id', 'state_id']] = oe.fit_transform(tm_features_train[['dept_id', 'store_id', 'cat_id', 'state_id']])"
   ]
  },
  {
   "cell_type": "code",
   "execution_count": 18,
   "id": "a93df930-a24f-4f47-bf0a-f0c895fb0626",
   "metadata": {},
   "outputs": [],
   "source": [
    "tm_features_test[['dept_id', 'store_id', 'cat_id', 'state_id']] = oe.transform(tm_features_test[['dept_id', 'store_id', 'cat_id', 'state_id']])"
   ]
  },
  {
   "cell_type": "code",
   "execution_count": 19,
   "id": "fd687540-ec57-42a9-976d-bf81ead3ef19",
   "metadata": {},
   "outputs": [
    {
     "data": {
      "text/plain": [
       "(34720691, 8)"
      ]
     },
     "execution_count": 19,
     "metadata": {},
     "output_type": "execute_result"
    }
   ],
   "source": [
    "tm_features_train.shape"
   ]
  },
  {
   "cell_type": "code",
   "execution_count": 20,
   "id": "6cdef492-4df8-4466-973f-03a84f5d0430",
   "metadata": {},
   "outputs": [
    {
     "data": {
      "text/html": [
       "<div>\n",
       "<style scoped>\n",
       "    .dataframe tbody tr th:only-of-type {\n",
       "        vertical-align: middle;\n",
       "    }\n",
       "\n",
       "    .dataframe tbody tr th {\n",
       "        vertical-align: top;\n",
       "    }\n",
       "\n",
       "    .dataframe thead th {\n",
       "        text-align: right;\n",
       "    }\n",
       "</style>\n",
       "<table border=\"1\" class=\"dataframe\">\n",
       "  <thead>\n",
       "    <tr style=\"text-align: right;\">\n",
       "      <th></th>\n",
       "      <th>item_id</th>\n",
       "      <th>dept_id</th>\n",
       "      <th>cat_id</th>\n",
       "      <th>store_id</th>\n",
       "      <th>state_id</th>\n",
       "      <th>year</th>\n",
       "      <th>month</th>\n",
       "      <th>day</th>\n",
       "    </tr>\n",
       "  </thead>\n",
       "  <tbody>\n",
       "    <tr>\n",
       "      <th>0</th>\n",
       "      <td>2.248204</td>\n",
       "      <td>3</td>\n",
       "      <td>1</td>\n",
       "      <td>0</td>\n",
       "      <td>0</td>\n",
       "      <td>2011</td>\n",
       "      <td>1</td>\n",
       "      <td>29</td>\n",
       "    </tr>\n",
       "    <tr>\n",
       "      <th>1</th>\n",
       "      <td>1.537946</td>\n",
       "      <td>3</td>\n",
       "      <td>1</td>\n",
       "      <td>0</td>\n",
       "      <td>0</td>\n",
       "      <td>2011</td>\n",
       "      <td>1</td>\n",
       "      <td>29</td>\n",
       "    </tr>\n",
       "    <tr>\n",
       "      <th>2</th>\n",
       "      <td>1.891180</td>\n",
       "      <td>3</td>\n",
       "      <td>1</td>\n",
       "      <td>0</td>\n",
       "      <td>0</td>\n",
       "      <td>2011</td>\n",
       "      <td>1</td>\n",
       "      <td>29</td>\n",
       "    </tr>\n",
       "    <tr>\n",
       "      <th>3</th>\n",
       "      <td>2.724936</td>\n",
       "      <td>3</td>\n",
       "      <td>1</td>\n",
       "      <td>0</td>\n",
       "      <td>0</td>\n",
       "      <td>2011</td>\n",
       "      <td>1</td>\n",
       "      <td>29</td>\n",
       "    </tr>\n",
       "    <tr>\n",
       "      <th>4</th>\n",
       "      <td>3.205972</td>\n",
       "      <td>3</td>\n",
       "      <td>1</td>\n",
       "      <td>0</td>\n",
       "      <td>0</td>\n",
       "      <td>2011</td>\n",
       "      <td>1</td>\n",
       "      <td>29</td>\n",
       "    </tr>\n",
       "  </tbody>\n",
       "</table>\n",
       "</div>"
      ],
      "text/plain": [
       "    item_id  dept_id  cat_id  store_id  state_id  year  month  day\n",
       "0  2.248204        3       1         0         0  2011      1   29\n",
       "1  1.537946        3       1         0         0  2011      1   29\n",
       "2  1.891180        3       1         0         0  2011      1   29\n",
       "3  2.724936        3       1         0         0  2011      1   29\n",
       "4  3.205972        3       1         0         0  2011      1   29"
      ]
     },
     "execution_count": 20,
     "metadata": {},
     "output_type": "execute_result"
    }
   ],
   "source": [
    "tm_features_train.head()"
   ]
  },
  {
   "cell_type": "markdown",
   "id": "241f31ef-e52a-42ae-abce-66dcb53f5dc9",
   "metadata": {},
   "source": [
    "## Standard Scalar"
   ]
  },
  {
   "cell_type": "markdown",
   "id": "04c1a49b-557c-4809-ab80-2a0f0a6079cf",
   "metadata": {},
   "source": [
    "To maintain the same level of magnitude between the values standard scaling technique will be applied."
   ]
  },
  {
   "cell_type": "code",
   "execution_count": 21,
   "id": "49011b82-3549-4b43-9835-c87ce42594b3",
   "metadata": {},
   "outputs": [],
   "source": [
    "scaler = StandardScaler()"
   ]
  },
  {
   "cell_type": "code",
   "execution_count": 23,
   "id": "07ffd3d3-1e5a-4666-9359-b0f960dc0b18",
   "metadata": {},
   "outputs": [],
   "source": [
    "train_scaled = scaler.fit_transform(tm_features_train)\n",
    "train_df_final = pd.DataFrame(train_scaled, columns=tm_features_train.columns)"
   ]
  },
  {
   "cell_type": "code",
   "execution_count": 24,
   "id": "bd15032b-d828-4b9f-b458-f7e318b4a563",
   "metadata": {},
   "outputs": [
    {
     "data": {
      "text/html": [
       "<div>\n",
       "<style scoped>\n",
       "    .dataframe tbody tr th:only-of-type {\n",
       "        vertical-align: middle;\n",
       "    }\n",
       "\n",
       "    .dataframe tbody tr th {\n",
       "        vertical-align: top;\n",
       "    }\n",
       "\n",
       "    .dataframe thead th {\n",
       "        text-align: right;\n",
       "    }\n",
       "</style>\n",
       "<table border=\"1\" class=\"dataframe\">\n",
       "  <thead>\n",
       "    <tr style=\"text-align: right;\">\n",
       "      <th></th>\n",
       "      <th>item_id</th>\n",
       "      <th>dept_id</th>\n",
       "      <th>cat_id</th>\n",
       "      <th>store_id</th>\n",
       "      <th>state_id</th>\n",
       "      <th>year</th>\n",
       "      <th>month</th>\n",
       "      <th>day</th>\n",
       "    </tr>\n",
       "  </thead>\n",
       "  <tbody>\n",
       "    <tr>\n",
       "      <th>0</th>\n",
       "      <td>-0.328719</td>\n",
       "      <td>-0.096686</td>\n",
       "      <td>0.128218</td>\n",
       "      <td>-1.574645</td>\n",
       "      <td>-1.092484</td>\n",
       "      <td>-1.636141</td>\n",
       "      <td>-1.538818</td>\n",
       "      <td>1.516152</td>\n",
       "    </tr>\n",
       "    <tr>\n",
       "      <th>1</th>\n",
       "      <td>-0.454687</td>\n",
       "      <td>-0.096686</td>\n",
       "      <td>0.128218</td>\n",
       "      <td>-1.574645</td>\n",
       "      <td>-1.092484</td>\n",
       "      <td>-1.636141</td>\n",
       "      <td>-1.538818</td>\n",
       "      <td>1.516152</td>\n",
       "    </tr>\n",
       "    <tr>\n",
       "      <th>2</th>\n",
       "      <td>-0.392039</td>\n",
       "      <td>-0.096686</td>\n",
       "      <td>0.128218</td>\n",
       "      <td>-1.574645</td>\n",
       "      <td>-1.092484</td>\n",
       "      <td>-1.636141</td>\n",
       "      <td>-1.538818</td>\n",
       "      <td>1.516152</td>\n",
       "    </tr>\n",
       "    <tr>\n",
       "      <th>3</th>\n",
       "      <td>-0.244169</td>\n",
       "      <td>-0.096686</td>\n",
       "      <td>0.128218</td>\n",
       "      <td>-1.574645</td>\n",
       "      <td>-1.092484</td>\n",
       "      <td>-1.636141</td>\n",
       "      <td>-1.538818</td>\n",
       "      <td>1.516152</td>\n",
       "    </tr>\n",
       "    <tr>\n",
       "      <th>4</th>\n",
       "      <td>-0.158854</td>\n",
       "      <td>-0.096686</td>\n",
       "      <td>0.128218</td>\n",
       "      <td>-1.574645</td>\n",
       "      <td>-1.092484</td>\n",
       "      <td>-1.636141</td>\n",
       "      <td>-1.538818</td>\n",
       "      <td>1.516152</td>\n",
       "    </tr>\n",
       "  </tbody>\n",
       "</table>\n",
       "</div>"
      ],
      "text/plain": [
       "    item_id   dept_id    cat_id  store_id  state_id      year     month  \\\n",
       "0 -0.328719 -0.096686  0.128218 -1.574645 -1.092484 -1.636141 -1.538818   \n",
       "1 -0.454687 -0.096686  0.128218 -1.574645 -1.092484 -1.636141 -1.538818   \n",
       "2 -0.392039 -0.096686  0.128218 -1.574645 -1.092484 -1.636141 -1.538818   \n",
       "3 -0.244169 -0.096686  0.128218 -1.574645 -1.092484 -1.636141 -1.538818   \n",
       "4 -0.158854 -0.096686  0.128218 -1.574645 -1.092484 -1.636141 -1.538818   \n",
       "\n",
       "        day  \n",
       "0  1.516152  \n",
       "1  1.516152  \n",
       "2  1.516152  \n",
       "3  1.516152  \n",
       "4  1.516152  "
      ]
     },
     "execution_count": 24,
     "metadata": {},
     "output_type": "execute_result"
    }
   ],
   "source": [
    "train_df_final.head()"
   ]
  },
  {
   "cell_type": "code",
   "execution_count": 25,
   "id": "83089816-ad6c-4fd8-9076-33d68958ab27",
   "metadata": {},
   "outputs": [],
   "source": [
    "test_scaled = scaler.transform(tm_features_test)\n",
    "test_df_final = pd.DataFrame(test_scaled, columns=tm_features_test.columns)"
   ]
  },
  {
   "cell_type": "markdown",
   "id": "53c9e985-e152-459f-866a-62c06936a99a",
   "metadata": {},
   "source": [
    "### Adding target back"
   ]
  },
  {
   "cell_type": "code",
   "execution_count": 26,
   "id": "0e7bddb5-b354-4cfb-91dc-07a342d2a2b3",
   "metadata": {},
   "outputs": [],
   "source": [
    "train_df_final['sales_revenue'] = target_train\n",
    "test_df_final['sales_revenue'] = target_test"
   ]
  },
  {
   "cell_type": "markdown",
   "id": "2cd52175-de54-4f76-9e4b-0a0266f837ab",
   "metadata": {},
   "source": [
    "### Saving Transformers"
   ]
  },
  {
   "cell_type": "code",
   "execution_count": 27,
   "id": "22897e09-c6e6-4a49-80c6-aed4b37b5368",
   "metadata": {},
   "outputs": [
    {
     "data": {
      "text/plain": [
       "['../../models/predictive/target_mean_encoder_1.joblib']"
      ]
     },
     "execution_count": 27,
     "metadata": {},
     "output_type": "execute_result"
    }
   ],
   "source": [
    "dump(tme, '../../models/predictive/target_mean_encoder_1.joblib')"
   ]
  },
  {
   "cell_type": "code",
   "execution_count": 28,
   "id": "cfcdf72f-d4c8-4d16-af32-0152798db26a",
   "metadata": {},
   "outputs": [
    {
     "data": {
      "text/plain": [
       "['../../models/predictive/ordinal_encoder_1.joblib']"
      ]
     },
     "execution_count": 28,
     "metadata": {},
     "output_type": "execute_result"
    }
   ],
   "source": [
    "dump(oe, '../../models/predictive/ordinal_encoder_1.joblib')"
   ]
  },
  {
   "cell_type": "code",
   "execution_count": 29,
   "id": "88e9702e-f889-4592-a535-dd8da1b5785c",
   "metadata": {},
   "outputs": [
    {
     "data": {
      "text/plain": [
       "['../../models/predictive/scaler_1.joblib']"
      ]
     },
     "execution_count": 29,
     "metadata": {},
     "output_type": "execute_result"
    }
   ],
   "source": [
    "dump(scaler, '../../models/predictive/scaler_1.joblib')"
   ]
  },
  {
   "cell_type": "markdown",
   "id": "c00192a9-65f9-4624-a19a-c865babecb69",
   "metadata": {},
   "source": [
    "## Saving csvs"
   ]
  },
  {
   "cell_type": "code",
   "execution_count": 30,
   "id": "856be230-d5a7-4af8-8cb4-7c08f84b60b2",
   "metadata": {},
   "outputs": [],
   "source": [
    "folder_path = \"../../data/processed\"\n",
    "train_df_final.to_csv(os.path.join(folder_path, 'train_processed_1.csv'), index=False)\n",
    "test_df_final.to_csv(os.path.join(folder_path, 'test_processed_1.csv'), index=False)"
   ]
  },
  {
   "cell_type": "code",
   "execution_count": null,
   "id": "27886c04-d3c3-4806-a8a9-e8a4c2941ae6",
   "metadata": {},
   "outputs": [],
   "source": []
  }
 ],
 "metadata": {
  "kernelspec": {
   "display_name": "Python 3 (ipykernel)",
   "language": "python",
   "name": "python3"
  },
  "language_info": {
   "codemirror_mode": {
    "name": "ipython",
    "version": 3
   },
   "file_extension": ".py",
   "mimetype": "text/x-python",
   "name": "python",
   "nbconvert_exporter": "python",
   "pygments_lexer": "ipython3",
   "version": "3.11.4"
  }
 },
 "nbformat": 4,
 "nbformat_minor": 5
}
