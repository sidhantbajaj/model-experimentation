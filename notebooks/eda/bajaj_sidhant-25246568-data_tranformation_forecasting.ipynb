{
 "cells": [
  {
   "cell_type": "code",
   "execution_count": 1,
   "id": "d9ef720a-cd6d-41df-b1fb-a22c42d65351",
   "metadata": {},
   "outputs": [],
   "source": [
    "import pandas as pd\n",
    "import numpy as np\n",
    "from sklearn.preprocessing import StandardScaler, OneHotEncoder, OrdinalEncoder\n",
    "from category_encoders import TargetEncoder\n",
    "from cstm_pkg_grp_9.data.sets import pop_target\n",
    "from joblib import dump\n",
    "import os"
   ]
  },
  {
   "cell_type": "markdown",
   "id": "9d305562-3574-48ce-b560-376dcb7a6662",
   "metadata": {},
   "source": [
    "# Load Data"
   ]
  },
  {
   "cell_type": "code",
   "execution_count": 2,
   "id": "12721931-f7c6-4d90-9ede-9784f6c56167",
   "metadata": {},
   "outputs": [],
   "source": [
    "train_data = pd.read_csv(\"../../data/interim/train_data_cleaned.csv\")\n",
    "test_data = pd.read_csv(\"../../data/interim/test_data_cleaned.csv\")"
   ]
  },
  {
   "cell_type": "code",
   "execution_count": 3,
   "id": "a656fa03-3ac6-4f29-abaf-d04485e771ce",
   "metadata": {},
   "outputs": [],
   "source": [
    "holiday_data = pd.read_csv(\"../../data/processed/calendar_events.csv\")"
   ]
  },
  {
   "cell_type": "markdown",
   "id": "fa3a0f22-8530-4d9f-a8c0-28aaab466c71",
   "metadata": {},
   "source": [
    "# Verify Data"
   ]
  },
  {
   "cell_type": "markdown",
   "id": "b7148232-a499-4f1d-bfea-0d2270c2d5e8",
   "metadata": {},
   "source": [
    "## Train data"
   ]
  },
  {
   "cell_type": "code",
   "execution_count": 4,
   "id": "de915330-d8db-4ce6-8d3f-8e7a88241a69",
   "metadata": {},
   "outputs": [
    {
     "name": "stdout",
     "output_type": "stream",
     "text": [
      "<class 'pandas.core.frame.DataFrame'>\n",
      "RangeIndex: 34720691 entries, 0 to 34720690\n",
      "Data columns (total 9 columns):\n",
      " #   Column         Dtype  \n",
      "---  ------         -----  \n",
      " 0   item_id        object \n",
      " 1   dept_id        object \n",
      " 2   cat_id         object \n",
      " 3   store_id       object \n",
      " 4   state_id       object \n",
      " 5   sales_revenue  float64\n",
      " 6   year           int64  \n",
      " 7   month          int64  \n",
      " 8   day            int64  \n",
      "dtypes: float64(1), int64(3), object(5)\n",
      "memory usage: 2.3+ GB\n"
     ]
    }
   ],
   "source": [
    "train_data.info()"
   ]
  },
  {
   "cell_type": "code",
   "execution_count": 5,
   "id": "06f8de2d-b37c-42ed-bcdd-5cc9b5d3e5f1",
   "metadata": {},
   "outputs": [
    {
     "data": {
      "text/html": [
       "<div>\n",
       "<style scoped>\n",
       "    .dataframe tbody tr th:only-of-type {\n",
       "        vertical-align: middle;\n",
       "    }\n",
       "\n",
       "    .dataframe tbody tr th {\n",
       "        vertical-align: top;\n",
       "    }\n",
       "\n",
       "    .dataframe thead th {\n",
       "        text-align: right;\n",
       "    }\n",
       "</style>\n",
       "<table border=\"1\" class=\"dataframe\">\n",
       "  <thead>\n",
       "    <tr style=\"text-align: right;\">\n",
       "      <th></th>\n",
       "      <th>item_id</th>\n",
       "      <th>dept_id</th>\n",
       "      <th>cat_id</th>\n",
       "      <th>store_id</th>\n",
       "      <th>state_id</th>\n",
       "      <th>sales_revenue</th>\n",
       "      <th>year</th>\n",
       "      <th>month</th>\n",
       "      <th>day</th>\n",
       "    </tr>\n",
       "  </thead>\n",
       "  <tbody>\n",
       "    <tr>\n",
       "      <th>0</th>\n",
       "      <td>HOBBIES_1_008</td>\n",
       "      <td>HOBBIES_1</td>\n",
       "      <td>HOBBIES</td>\n",
       "      <td>CA_1</td>\n",
       "      <td>CA</td>\n",
       "      <td>5.52</td>\n",
       "      <td>2011</td>\n",
       "      <td>1</td>\n",
       "      <td>29</td>\n",
       "    </tr>\n",
       "    <tr>\n",
       "      <th>1</th>\n",
       "      <td>HOBBIES_1_009</td>\n",
       "      <td>HOBBIES_1</td>\n",
       "      <td>HOBBIES</td>\n",
       "      <td>CA_1</td>\n",
       "      <td>CA</td>\n",
       "      <td>3.12</td>\n",
       "      <td>2011</td>\n",
       "      <td>1</td>\n",
       "      <td>29</td>\n",
       "    </tr>\n",
       "    <tr>\n",
       "      <th>2</th>\n",
       "      <td>HOBBIES_1_010</td>\n",
       "      <td>HOBBIES_1</td>\n",
       "      <td>HOBBIES</td>\n",
       "      <td>CA_1</td>\n",
       "      <td>CA</td>\n",
       "      <td>0.00</td>\n",
       "      <td>2011</td>\n",
       "      <td>1</td>\n",
       "      <td>29</td>\n",
       "    </tr>\n",
       "    <tr>\n",
       "      <th>3</th>\n",
       "      <td>HOBBIES_1_012</td>\n",
       "      <td>HOBBIES_1</td>\n",
       "      <td>HOBBIES</td>\n",
       "      <td>CA_1</td>\n",
       "      <td>CA</td>\n",
       "      <td>0.00</td>\n",
       "      <td>2011</td>\n",
       "      <td>1</td>\n",
       "      <td>29</td>\n",
       "    </tr>\n",
       "    <tr>\n",
       "      <th>4</th>\n",
       "      <td>HOBBIES_1_015</td>\n",
       "      <td>HOBBIES_1</td>\n",
       "      <td>HOBBIES</td>\n",
       "      <td>CA_1</td>\n",
       "      <td>CA</td>\n",
       "      <td>2.80</td>\n",
       "      <td>2011</td>\n",
       "      <td>1</td>\n",
       "      <td>29</td>\n",
       "    </tr>\n",
       "  </tbody>\n",
       "</table>\n",
       "</div>"
      ],
      "text/plain": [
       "         item_id    dept_id   cat_id store_id state_id  sales_revenue  year  \\\n",
       "0  HOBBIES_1_008  HOBBIES_1  HOBBIES     CA_1       CA           5.52  2011   \n",
       "1  HOBBIES_1_009  HOBBIES_1  HOBBIES     CA_1       CA           3.12  2011   \n",
       "2  HOBBIES_1_010  HOBBIES_1  HOBBIES     CA_1       CA           0.00  2011   \n",
       "3  HOBBIES_1_012  HOBBIES_1  HOBBIES     CA_1       CA           0.00  2011   \n",
       "4  HOBBIES_1_015  HOBBIES_1  HOBBIES     CA_1       CA           2.80  2011   \n",
       "\n",
       "   month  day  \n",
       "0      1   29  \n",
       "1      1   29  \n",
       "2      1   29  \n",
       "3      1   29  \n",
       "4      1   29  "
      ]
     },
     "execution_count": 5,
     "metadata": {},
     "output_type": "execute_result"
    }
   ],
   "source": [
    "train_data.head()"
   ]
  },
  {
   "cell_type": "code",
   "execution_count": 6,
   "id": "04959524-85b1-4390-9a19-e29a7395917b",
   "metadata": {},
   "outputs": [
    {
     "data": {
      "text/plain": [
       "(34720691, 9)"
      ]
     },
     "execution_count": 6,
     "metadata": {},
     "output_type": "execute_result"
    }
   ],
   "source": [
    "train_data.shape"
   ]
  },
  {
   "cell_type": "markdown",
   "id": "45b86d37-dfcd-4ec4-97bb-3709c3bd7832",
   "metadata": {},
   "source": [
    "## Test data"
   ]
  },
  {
   "cell_type": "code",
   "execution_count": 7,
   "id": "caa61cfe-9fad-467e-9295-ef134cf6f8ad",
   "metadata": {},
   "outputs": [
    {
     "name": "stdout",
     "output_type": "stream",
     "text": [
      "<class 'pandas.core.frame.DataFrame'>\n",
      "RangeIndex: 12160986 entries, 0 to 12160985\n",
      "Data columns (total 9 columns):\n",
      " #   Column         Dtype  \n",
      "---  ------         -----  \n",
      " 0   item_id        object \n",
      " 1   dept_id        object \n",
      " 2   cat_id         object \n",
      " 3   store_id       object \n",
      " 4   state_id       object \n",
      " 5   sales_revenue  float64\n",
      " 6   year           int64  \n",
      " 7   month          int64  \n",
      " 8   day            int64  \n",
      "dtypes: float64(1), int64(3), object(5)\n",
      "memory usage: 835.0+ MB\n"
     ]
    }
   ],
   "source": [
    "test_data.info()"
   ]
  },
  {
   "cell_type": "code",
   "execution_count": 8,
   "id": "02d20e00-10c3-486d-83df-853b4810a27a",
   "metadata": {},
   "outputs": [
    {
     "data": {
      "text/html": [
       "<div>\n",
       "<style scoped>\n",
       "    .dataframe tbody tr th:only-of-type {\n",
       "        vertical-align: middle;\n",
       "    }\n",
       "\n",
       "    .dataframe tbody tr th {\n",
       "        vertical-align: top;\n",
       "    }\n",
       "\n",
       "    .dataframe thead th {\n",
       "        text-align: right;\n",
       "    }\n",
       "</style>\n",
       "<table border=\"1\" class=\"dataframe\">\n",
       "  <thead>\n",
       "    <tr style=\"text-align: right;\">\n",
       "      <th></th>\n",
       "      <th>item_id</th>\n",
       "      <th>dept_id</th>\n",
       "      <th>cat_id</th>\n",
       "      <th>store_id</th>\n",
       "      <th>state_id</th>\n",
       "      <th>sales_revenue</th>\n",
       "      <th>year</th>\n",
       "      <th>month</th>\n",
       "      <th>day</th>\n",
       "    </tr>\n",
       "  </thead>\n",
       "  <tbody>\n",
       "    <tr>\n",
       "      <th>0</th>\n",
       "      <td>HOBBIES_1_001</td>\n",
       "      <td>HOBBIES_1</td>\n",
       "      <td>HOBBIES</td>\n",
       "      <td>CA_1</td>\n",
       "      <td>CA</td>\n",
       "      <td>0.00</td>\n",
       "      <td>2015</td>\n",
       "      <td>4</td>\n",
       "      <td>19</td>\n",
       "    </tr>\n",
       "    <tr>\n",
       "      <th>1</th>\n",
       "      <td>HOBBIES_1_002</td>\n",
       "      <td>HOBBIES_1</td>\n",
       "      <td>HOBBIES</td>\n",
       "      <td>CA_1</td>\n",
       "      <td>CA</td>\n",
       "      <td>0.00</td>\n",
       "      <td>2015</td>\n",
       "      <td>4</td>\n",
       "      <td>19</td>\n",
       "    </tr>\n",
       "    <tr>\n",
       "      <th>2</th>\n",
       "      <td>HOBBIES_1_003</td>\n",
       "      <td>HOBBIES_1</td>\n",
       "      <td>HOBBIES</td>\n",
       "      <td>CA_1</td>\n",
       "      <td>CA</td>\n",
       "      <td>0.00</td>\n",
       "      <td>2015</td>\n",
       "      <td>4</td>\n",
       "      <td>19</td>\n",
       "    </tr>\n",
       "    <tr>\n",
       "      <th>3</th>\n",
       "      <td>HOBBIES_1_004</td>\n",
       "      <td>HOBBIES_1</td>\n",
       "      <td>HOBBIES</td>\n",
       "      <td>CA_1</td>\n",
       "      <td>CA</td>\n",
       "      <td>18.56</td>\n",
       "      <td>2015</td>\n",
       "      <td>4</td>\n",
       "      <td>19</td>\n",
       "    </tr>\n",
       "    <tr>\n",
       "      <th>4</th>\n",
       "      <td>HOBBIES_1_005</td>\n",
       "      <td>HOBBIES_1</td>\n",
       "      <td>HOBBIES</td>\n",
       "      <td>CA_1</td>\n",
       "      <td>CA</td>\n",
       "      <td>8.64</td>\n",
       "      <td>2015</td>\n",
       "      <td>4</td>\n",
       "      <td>19</td>\n",
       "    </tr>\n",
       "  </tbody>\n",
       "</table>\n",
       "</div>"
      ],
      "text/plain": [
       "         item_id    dept_id   cat_id store_id state_id  sales_revenue  year  \\\n",
       "0  HOBBIES_1_001  HOBBIES_1  HOBBIES     CA_1       CA           0.00  2015   \n",
       "1  HOBBIES_1_002  HOBBIES_1  HOBBIES     CA_1       CA           0.00  2015   \n",
       "2  HOBBIES_1_003  HOBBIES_1  HOBBIES     CA_1       CA           0.00  2015   \n",
       "3  HOBBIES_1_004  HOBBIES_1  HOBBIES     CA_1       CA          18.56  2015   \n",
       "4  HOBBIES_1_005  HOBBIES_1  HOBBIES     CA_1       CA           8.64  2015   \n",
       "\n",
       "   month  day  \n",
       "0      4   19  \n",
       "1      4   19  \n",
       "2      4   19  \n",
       "3      4   19  \n",
       "4      4   19  "
      ]
     },
     "execution_count": 8,
     "metadata": {},
     "output_type": "execute_result"
    }
   ],
   "source": [
    "test_data.head()"
   ]
  },
  {
   "cell_type": "code",
   "execution_count": 9,
   "id": "26f80691-e7e8-4ed7-8dda-e5344ee972fa",
   "metadata": {},
   "outputs": [
    {
     "name": "stdout",
     "output_type": "stream",
     "text": [
      "<class 'pandas.core.frame.DataFrame'>\n",
      "RangeIndex: 167 entries, 0 to 166\n",
      "Data columns (total 3 columns):\n",
      " #   Column      Non-Null Count  Dtype \n",
      "---  ------      --------------  ----- \n",
      " 0   date        167 non-null    object\n",
      " 1   event_name  167 non-null    object\n",
      " 2   event_type  167 non-null    object\n",
      "dtypes: object(3)\n",
      "memory usage: 4.0+ KB\n"
     ]
    }
   ],
   "source": [
    "holiday_data.info()"
   ]
  },
  {
   "cell_type": "code",
   "execution_count": 10,
   "id": "9f8e9b83-ffe9-4df2-8dba-ebf03e799980",
   "metadata": {},
   "outputs": [
    {
     "data": {
      "text/html": [
       "<div>\n",
       "<style scoped>\n",
       "    .dataframe tbody tr th:only-of-type {\n",
       "        vertical-align: middle;\n",
       "    }\n",
       "\n",
       "    .dataframe tbody tr th {\n",
       "        vertical-align: top;\n",
       "    }\n",
       "\n",
       "    .dataframe thead th {\n",
       "        text-align: right;\n",
       "    }\n",
       "</style>\n",
       "<table border=\"1\" class=\"dataframe\">\n",
       "  <thead>\n",
       "    <tr style=\"text-align: right;\">\n",
       "      <th></th>\n",
       "      <th>date</th>\n",
       "      <th>event_name</th>\n",
       "      <th>event_type</th>\n",
       "    </tr>\n",
       "  </thead>\n",
       "  <tbody>\n",
       "    <tr>\n",
       "      <th>0</th>\n",
       "      <td>2011-02-06</td>\n",
       "      <td>SuperBowl</td>\n",
       "      <td>Sporting</td>\n",
       "    </tr>\n",
       "    <tr>\n",
       "      <th>1</th>\n",
       "      <td>2011-02-14</td>\n",
       "      <td>ValentinesDay</td>\n",
       "      <td>Cultural</td>\n",
       "    </tr>\n",
       "    <tr>\n",
       "      <th>2</th>\n",
       "      <td>2011-02-21</td>\n",
       "      <td>PresidentsDay</td>\n",
       "      <td>National</td>\n",
       "    </tr>\n",
       "    <tr>\n",
       "      <th>3</th>\n",
       "      <td>2011-03-09</td>\n",
       "      <td>LentStart</td>\n",
       "      <td>Religious</td>\n",
       "    </tr>\n",
       "    <tr>\n",
       "      <th>4</th>\n",
       "      <td>2011-03-16</td>\n",
       "      <td>LentWeek2</td>\n",
       "      <td>Religious</td>\n",
       "    </tr>\n",
       "  </tbody>\n",
       "</table>\n",
       "</div>"
      ],
      "text/plain": [
       "         date     event_name event_type\n",
       "0  2011-02-06      SuperBowl   Sporting\n",
       "1  2011-02-14  ValentinesDay   Cultural\n",
       "2  2011-02-21  PresidentsDay   National\n",
       "3  2011-03-09      LentStart  Religious\n",
       "4  2011-03-16      LentWeek2  Religious"
      ]
     },
     "execution_count": 10,
     "metadata": {},
     "output_type": "execute_result"
    }
   ],
   "source": [
    "holiday_data.head()"
   ]
  },
  {
   "cell_type": "markdown",
   "id": "6adc973c-3dc5-45bf-bc3a-01404aed1e77",
   "metadata": {},
   "source": [
    "# Data Transformation"
   ]
  },
  {
   "cell_type": "markdown",
   "id": "90340c67-d03a-444d-92cc-dea49e2a17c1",
   "metadata": {},
   "source": [
    "Creating a column date by combing the year, month and day columns and converting the combined value to a date time object."
   ]
  },
  {
   "cell_type": "code",
   "execution_count": 13,
   "id": "7a883c87-e3c4-43b6-a0c5-98b23c6f2408",
   "metadata": {},
   "outputs": [],
   "source": [
    "train_data['date'] = pd.to_datetime(train_data[['year', 'month', 'day']])\n",
    "test_data['date'] = pd.to_datetime(test_data[['year', 'month', 'day']])"
   ]
  },
  {
   "cell_type": "markdown",
   "id": "a7dbd1ce-46e3-435d-95c7-84ee0bfad11d",
   "metadata": {},
   "source": [
    "The objective is to forecast 7 days of total sales revenue across all the stores and items. Thus, the data will be aggregated and the sum of sales revenue for each store and its items per day will be calculated."
   ]
  },
  {
   "cell_type": "code",
   "execution_count": 14,
   "id": "26045629-07af-4575-a31d-1b492e13f59b",
   "metadata": {},
   "outputs": [],
   "source": [
    "train_df_agg = train_data.groupby('date')['sales_revenue'].sum().reset_index()\n",
    "test_df_agg = test_data.groupby('date')['sales_revenue'].sum().reset_index()"
   ]
  },
  {
   "cell_type": "markdown",
   "id": "546f576e-2005-4d9d-98d2-e2958b2e67e2",
   "metadata": {},
   "source": [
    "Verifying the count of rows"
   ]
  },
  {
   "cell_type": "code",
   "execution_count": 14,
   "id": "9c15f268-cd0a-40e2-9fe4-c3999896c60d",
   "metadata": {},
   "outputs": [
    {
     "data": {
      "text/plain": [
       "date             1541\n",
       "sales_revenue    1541\n",
       "dtype: int64"
      ]
     },
     "execution_count": 14,
     "metadata": {},
     "output_type": "execute_result"
    }
   ],
   "source": [
    "train_df_agg.count()"
   ]
  },
  {
   "cell_type": "code",
   "execution_count": 15,
   "id": "81158c9f-330f-47a4-90ee-84c9eca65264",
   "metadata": {},
   "outputs": [
    {
     "data": {
      "text/plain": [
       "date             400\n",
       "sales_revenue    400\n",
       "dtype: int64"
      ]
     },
     "execution_count": 15,
     "metadata": {},
     "output_type": "execute_result"
    }
   ],
   "source": [
    "test_df_agg.count()"
   ]
  },
  {
   "cell_type": "markdown",
   "id": "8c7cb967-0566-433e-8b21-d6c6cb816f4d",
   "metadata": {},
   "source": [
    "Renaming columns so that they can be used by the forecasting model."
   ]
  },
  {
   "cell_type": "code",
   "execution_count": 16,
   "id": "20d975f8-20c3-462c-ab99-8845f4752567",
   "metadata": {},
   "outputs": [],
   "source": [
    "train_df_agg.rename(columns={'date': 'ds', 'sales_revenue': 'y'}, inplace=True)\n",
    "test_df_agg.rename(columns={'date': 'ds', 'sales_revenue': 'y'}, inplace=True)"
   ]
  },
  {
   "cell_type": "markdown",
   "id": "f824e6cf-3fc7-4ced-8839-e7bf09e80310",
   "metadata": {},
   "source": [
    "Transforming holiday data that can be ingested as parameter in the forecast model."
   ]
  },
  {
   "cell_type": "code",
   "execution_count": 30,
   "id": "97c83a45-7d95-42c2-bc08-7c826108ac19",
   "metadata": {},
   "outputs": [],
   "source": [
    "holiday_data['date'] = pd.to_datetime(holiday_data['date'])\n",
    "holiday_data.rename(columns={'date': 'ds', 'event_name':'holiday'}, inplace=True)"
   ]
  },
  {
   "cell_type": "markdown",
   "id": "1aac69ef-3511-4b5d-8079-02f58d7b8ca1",
   "metadata": {},
   "source": [
    "# Saving Files"
   ]
  },
  {
   "cell_type": "code",
   "execution_count": 31,
   "id": "a317788e-650f-44a4-a6d1-86482732db90",
   "metadata": {},
   "outputs": [],
   "source": [
    "folder_path = \"../../data/processed\"\n",
    "train_df_agg.to_csv(os.path.join(folder_path, 'train_forecasting.csv'), index=False)\n",
    "test_df_agg.to_csv(os.path.join(folder_path, 'test_forecasting.csv'), index=False)\n",
    "holiday_data.to_csv(os.path.join(folder_path, 'holiday_data.csv'), index=False)"
   ]
  },
  {
   "cell_type": "code",
   "execution_count": null,
   "id": "c6b52ed2-ead1-40f6-8fc4-d2b44cf94f33",
   "metadata": {},
   "outputs": [],
   "source": []
  }
 ],
 "metadata": {
  "kernelspec": {
   "display_name": "Python 3 (ipykernel)",
   "language": "python",
   "name": "python3"
  },
  "language_info": {
   "codemirror_mode": {
    "name": "ipython",
    "version": 3
   },
   "file_extension": ".py",
   "mimetype": "text/x-python",
   "name": "python",
   "nbconvert_exporter": "python",
   "pygments_lexer": "ipython3",
   "version": "3.11.4"
  }
 },
 "nbformat": 4,
 "nbformat_minor": 5
}
