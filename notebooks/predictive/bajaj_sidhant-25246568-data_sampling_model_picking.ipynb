{
 "cells": [
  {
   "cell_type": "markdown",
   "id": "47ac8c7e-a4f2-4b31-a4db-84d010f032d7",
   "metadata": {},
   "source": [
    "# Import Libraries"
   ]
  },
  {
   "cell_type": "code",
   "execution_count": 1,
   "id": "8f3c03cd-c921-455d-b8bc-37acd6d3c517",
   "metadata": {},
   "outputs": [],
   "source": [
    "import pandas as pd\n",
    "import numpy as np\n",
    "from cstm_pkg_grp_9.data.sets import pop_target\n",
    "from sklearn.metrics import root_mean_squared_error as rmse\n",
    "from sklearn.model_selection import train_test_split\n",
    "import xgboost as xgb\n",
    "import lightgbm as lgb\n",
    "from sklearn.linear_model import LinearRegression, ElasticNet\n",
    "from sklearn.tree import DecisionTreeRegressor\n",
    "from sklearn.ensemble import RandomForestRegressor, AdaBoostRegressor"
   ]
  },
  {
   "cell_type": "markdown",
   "id": "e9002454-2816-482a-b2e5-ec3b14fb6153",
   "metadata": {},
   "source": [
    "# Loading Data"
   ]
  },
  {
   "cell_type": "code",
   "execution_count": 2,
   "id": "d6b2e060-b732-429c-bfcb-002fb571f43e",
   "metadata": {},
   "outputs": [],
   "source": [
    "train_df = pd.read_csv(\"../../data/processed/train_processed_1.csv\")\n",
    "test_df = pd.read_csv(\"../../data/processed/test_processed_1.csv\")"
   ]
  },
  {
   "cell_type": "code",
   "execution_count": 3,
   "id": "20786ff9-690c-4355-aaea-f584ae357d0f",
   "metadata": {},
   "outputs": [
    {
     "data": {
      "text/html": [
       "<div>\n",
       "<style scoped>\n",
       "    .dataframe tbody tr th:only-of-type {\n",
       "        vertical-align: middle;\n",
       "    }\n",
       "\n",
       "    .dataframe tbody tr th {\n",
       "        vertical-align: top;\n",
       "    }\n",
       "\n",
       "    .dataframe thead th {\n",
       "        text-align: right;\n",
       "    }\n",
       "</style>\n",
       "<table border=\"1\" class=\"dataframe\">\n",
       "  <thead>\n",
       "    <tr style=\"text-align: right;\">\n",
       "      <th></th>\n",
       "      <th>item_id</th>\n",
       "      <th>dept_id</th>\n",
       "      <th>cat_id</th>\n",
       "      <th>store_id</th>\n",
       "      <th>state_id</th>\n",
       "      <th>year</th>\n",
       "      <th>month</th>\n",
       "      <th>day</th>\n",
       "      <th>sales_revenue</th>\n",
       "    </tr>\n",
       "  </thead>\n",
       "  <tbody>\n",
       "    <tr>\n",
       "      <th>0</th>\n",
       "      <td>-0.328719</td>\n",
       "      <td>-0.096686</td>\n",
       "      <td>0.128218</td>\n",
       "      <td>-1.574645</td>\n",
       "      <td>-1.092484</td>\n",
       "      <td>-1.636141</td>\n",
       "      <td>-1.538818</td>\n",
       "      <td>1.516152</td>\n",
       "      <td>5.52</td>\n",
       "    </tr>\n",
       "    <tr>\n",
       "      <th>1</th>\n",
       "      <td>-0.454687</td>\n",
       "      <td>-0.096686</td>\n",
       "      <td>0.128218</td>\n",
       "      <td>-1.574645</td>\n",
       "      <td>-1.092484</td>\n",
       "      <td>-1.636141</td>\n",
       "      <td>-1.538818</td>\n",
       "      <td>1.516152</td>\n",
       "      <td>3.12</td>\n",
       "    </tr>\n",
       "    <tr>\n",
       "      <th>2</th>\n",
       "      <td>-0.392039</td>\n",
       "      <td>-0.096686</td>\n",
       "      <td>0.128218</td>\n",
       "      <td>-1.574645</td>\n",
       "      <td>-1.092484</td>\n",
       "      <td>-1.636141</td>\n",
       "      <td>-1.538818</td>\n",
       "      <td>1.516152</td>\n",
       "      <td>0.00</td>\n",
       "    </tr>\n",
       "    <tr>\n",
       "      <th>3</th>\n",
       "      <td>-0.244169</td>\n",
       "      <td>-0.096686</td>\n",
       "      <td>0.128218</td>\n",
       "      <td>-1.574645</td>\n",
       "      <td>-1.092484</td>\n",
       "      <td>-1.636141</td>\n",
       "      <td>-1.538818</td>\n",
       "      <td>1.516152</td>\n",
       "      <td>0.00</td>\n",
       "    </tr>\n",
       "    <tr>\n",
       "      <th>4</th>\n",
       "      <td>-0.158854</td>\n",
       "      <td>-0.096686</td>\n",
       "      <td>0.128218</td>\n",
       "      <td>-1.574645</td>\n",
       "      <td>-1.092484</td>\n",
       "      <td>-1.636141</td>\n",
       "      <td>-1.538818</td>\n",
       "      <td>1.516152</td>\n",
       "      <td>2.80</td>\n",
       "    </tr>\n",
       "  </tbody>\n",
       "</table>\n",
       "</div>"
      ],
      "text/plain": [
       "    item_id   dept_id    cat_id  store_id  state_id      year     month  \\\n",
       "0 -0.328719 -0.096686  0.128218 -1.574645 -1.092484 -1.636141 -1.538818   \n",
       "1 -0.454687 -0.096686  0.128218 -1.574645 -1.092484 -1.636141 -1.538818   \n",
       "2 -0.392039 -0.096686  0.128218 -1.574645 -1.092484 -1.636141 -1.538818   \n",
       "3 -0.244169 -0.096686  0.128218 -1.574645 -1.092484 -1.636141 -1.538818   \n",
       "4 -0.158854 -0.096686  0.128218 -1.574645 -1.092484 -1.636141 -1.538818   \n",
       "\n",
       "        day  sales_revenue  \n",
       "0  1.516152           5.52  \n",
       "1  1.516152           3.12  \n",
       "2  1.516152           0.00  \n",
       "3  1.516152           0.00  \n",
       "4  1.516152           2.80  "
      ]
     },
     "execution_count": 3,
     "metadata": {},
     "output_type": "execute_result"
    }
   ],
   "source": [
    "train_df.head()"
   ]
  },
  {
   "cell_type": "code",
   "execution_count": 4,
   "id": "de87d6c3-cc26-4640-bff7-524adc458e3b",
   "metadata": {},
   "outputs": [
    {
     "data": {
      "text/html": [
       "<div>\n",
       "<style scoped>\n",
       "    .dataframe tbody tr th:only-of-type {\n",
       "        vertical-align: middle;\n",
       "    }\n",
       "\n",
       "    .dataframe tbody tr th {\n",
       "        vertical-align: top;\n",
       "    }\n",
       "\n",
       "    .dataframe thead th {\n",
       "        text-align: right;\n",
       "    }\n",
       "</style>\n",
       "<table border=\"1\" class=\"dataframe\">\n",
       "  <thead>\n",
       "    <tr style=\"text-align: right;\">\n",
       "      <th></th>\n",
       "      <th>item_id</th>\n",
       "      <th>dept_id</th>\n",
       "      <th>cat_id</th>\n",
       "      <th>store_id</th>\n",
       "      <th>state_id</th>\n",
       "      <th>year</th>\n",
       "      <th>month</th>\n",
       "      <th>day</th>\n",
       "      <th>sales_revenue</th>\n",
       "    </tr>\n",
       "  </thead>\n",
       "  <tbody>\n",
       "    <tr>\n",
       "      <th>0</th>\n",
       "      <td>-0.203720</td>\n",
       "      <td>-0.096686</td>\n",
       "      <td>0.128218</td>\n",
       "      <td>-1.574645</td>\n",
       "      <td>-1.092484</td>\n",
       "      <td>1.66924</td>\n",
       "      <td>-0.679833</td>\n",
       "      <td>0.378393</td>\n",
       "      <td>0.00</td>\n",
       "    </tr>\n",
       "    <tr>\n",
       "      <th>1</th>\n",
       "      <td>-0.534879</td>\n",
       "      <td>-0.096686</td>\n",
       "      <td>0.128218</td>\n",
       "      <td>-1.574645</td>\n",
       "      <td>-1.092484</td>\n",
       "      <td>1.66924</td>\n",
       "      <td>-0.679833</td>\n",
       "      <td>0.378393</td>\n",
       "      <td>0.00</td>\n",
       "    </tr>\n",
       "    <tr>\n",
       "      <th>2</th>\n",
       "      <td>-0.658027</td>\n",
       "      <td>-0.096686</td>\n",
       "      <td>0.128218</td>\n",
       "      <td>-1.574645</td>\n",
       "      <td>-1.092484</td>\n",
       "      <td>1.66924</td>\n",
       "      <td>-0.679833</td>\n",
       "      <td>0.378393</td>\n",
       "      <td>0.00</td>\n",
       "    </tr>\n",
       "    <tr>\n",
       "      <th>3</th>\n",
       "      <td>0.976588</td>\n",
       "      <td>-0.096686</td>\n",
       "      <td>0.128218</td>\n",
       "      <td>-1.574645</td>\n",
       "      <td>-1.092484</td>\n",
       "      <td>1.66924</td>\n",
       "      <td>-0.679833</td>\n",
       "      <td>0.378393</td>\n",
       "      <td>18.56</td>\n",
       "    </tr>\n",
       "    <tr>\n",
       "      <th>4</th>\n",
       "      <td>-0.332285</td>\n",
       "      <td>-0.096686</td>\n",
       "      <td>0.128218</td>\n",
       "      <td>-1.574645</td>\n",
       "      <td>-1.092484</td>\n",
       "      <td>1.66924</td>\n",
       "      <td>-0.679833</td>\n",
       "      <td>0.378393</td>\n",
       "      <td>8.64</td>\n",
       "    </tr>\n",
       "  </tbody>\n",
       "</table>\n",
       "</div>"
      ],
      "text/plain": [
       "    item_id   dept_id    cat_id  store_id  state_id     year     month  \\\n",
       "0 -0.203720 -0.096686  0.128218 -1.574645 -1.092484  1.66924 -0.679833   \n",
       "1 -0.534879 -0.096686  0.128218 -1.574645 -1.092484  1.66924 -0.679833   \n",
       "2 -0.658027 -0.096686  0.128218 -1.574645 -1.092484  1.66924 -0.679833   \n",
       "3  0.976588 -0.096686  0.128218 -1.574645 -1.092484  1.66924 -0.679833   \n",
       "4 -0.332285 -0.096686  0.128218 -1.574645 -1.092484  1.66924 -0.679833   \n",
       "\n",
       "        day  sales_revenue  \n",
       "0  0.378393           0.00  \n",
       "1  0.378393           0.00  \n",
       "2  0.378393           0.00  \n",
       "3  0.378393          18.56  \n",
       "4  0.378393           8.64  "
      ]
     },
     "execution_count": 4,
     "metadata": {},
     "output_type": "execute_result"
    }
   ],
   "source": [
    "test_df.head()"
   ]
  },
  {
   "cell_type": "code",
   "execution_count": 5,
   "id": "fc05d206-fcc3-4018-bd07-290977684c4c",
   "metadata": {},
   "outputs": [],
   "source": [
    "features_train, target_train = pop_target(train_df, 'sales_revenue')\n",
    "features_test, target_test = pop_target(test_df, 'sales_revenue')"
   ]
  },
  {
   "cell_type": "markdown",
   "id": "299c53e9-bdb1-4d3d-bb4d-95c225a4b570",
   "metadata": {},
   "source": [
    "# Sample Dataset"
   ]
  },
  {
   "cell_type": "code",
   "execution_count": 26,
   "id": "e6552f0f-b34d-4153-a317-6b68c2a1127a",
   "metadata": {},
   "outputs": [],
   "source": [
    "df_train_sample = train_df.sample(frac=0.6, random_state=42)\n",
    "df_test_sample = test_df"
   ]
  },
  {
   "cell_type": "code",
   "execution_count": 27,
   "id": "7d19d8be-08c1-4fcc-aae1-c105f2aded7a",
   "metadata": {},
   "outputs": [],
   "source": [
    "features_train, target_train = pop_target(df_train_sample, 'sales_revenue')\n",
    "X_test, y_test = pop_target(df_test_sample, 'sales_revenue')"
   ]
  },
  {
   "cell_type": "markdown",
   "id": "b1ba05ec-3301-4348-9fde-0b8512a68cc4",
   "metadata": {},
   "source": [
    "# Split Dataset"
   ]
  },
  {
   "cell_type": "code",
   "execution_count": 28,
   "id": "34ac7280-3e83-4a10-9cc1-93b3c562dc83",
   "metadata": {},
   "outputs": [],
   "source": [
    "X_train, X_val, y_train, y_val = train_test_split(features_train, target_train, test_size=0.3, random_state=42)"
   ]
  },
  {
   "cell_type": "markdown",
   "id": "7a9044ba-481d-4144-9177-2ca218b04220",
   "metadata": {},
   "source": [
    "# Baseline Model"
   ]
  },
  {
   "cell_type": "code",
   "execution_count": 29,
   "id": "e9766075-27ee-49e3-9379-4707bb9e9cb6",
   "metadata": {},
   "outputs": [
    {
     "data": {
      "text/plain": [
       "np.float64(4.100991207383548)"
      ]
     },
     "execution_count": 29,
     "metadata": {},
     "output_type": "execute_result"
    }
   ],
   "source": [
    "y_mean = y_train.mean()\n",
    "y_mean"
   ]
  },
  {
   "cell_type": "code",
   "execution_count": 30,
   "id": "1a0f1882-a1ae-494e-aa1d-d8f8cac79051",
   "metadata": {},
   "outputs": [
    {
     "name": "stdout",
     "output_type": "stream",
     "text": [
      "RMSE on Training Data: 10.485546198416937\n"
     ]
    }
   ],
   "source": [
    "y_base = np.full(y_train.shape, y_mean)\n",
    "print(\"RMSE on Training Data:\", rmse(y_train, y_base))"
   ]
  },
  {
   "cell_type": "code",
   "execution_count": 31,
   "id": "fef23f7f-7732-44a3-a597-4d58ae6a0c93",
   "metadata": {},
   "outputs": [
    {
     "name": "stdout",
     "output_type": "stream",
     "text": [
      "RMSE on Validation Data: 10.421423291969589\n"
     ]
    }
   ],
   "source": [
    "y_val_base = np.full(y_val.shape, y_mean)\n",
    "print(\"RMSE on Validation Data:\", rmse(y_val, y_val_base))"
   ]
  },
  {
   "cell_type": "code",
   "execution_count": 32,
   "id": "14c43c4c-4ff4-4fdc-a31f-ab849dc3639b",
   "metadata": {},
   "outputs": [
    {
     "data": {
      "text/plain": [
       "np.float64(4.042860433356301)"
      ]
     },
     "execution_count": 32,
     "metadata": {},
     "output_type": "execute_result"
    }
   ],
   "source": [
    "y_mean_test = y_test.mean()\n",
    "y_mean_test"
   ]
  },
  {
   "cell_type": "code",
   "execution_count": 33,
   "id": "fef84ce0-b813-4de2-a4c3-74cdfe671233",
   "metadata": {},
   "outputs": [
    {
     "name": "stdout",
     "output_type": "stream",
     "text": [
      "RMSE on Testing Data: 11.313692990035433\n"
     ]
    }
   ],
   "source": [
    "y_test_base = np.full(y_test.shape, y_mean_test)\n",
    "print(\"RMSE on Testing Data:\", rmse(y_test, y_test_base))"
   ]
  },
  {
   "cell_type": "markdown",
   "id": "aac864cd-0f1f-4314-a1a5-72e7146e2390",
   "metadata": {},
   "source": [
    "# Modelling"
   ]
  },
  {
   "cell_type": "code",
   "execution_count": 34,
   "id": "828418ad-9206-415e-ad10-bba29be0bfda",
   "metadata": {},
   "outputs": [],
   "source": [
    "def train_and_evaluate(models, X_train, y_train, X_val, y_val, X_test, y_test):\n",
    "    results = {}\n",
    "    \n",
    "    for name, model in models.items():\n",
    "        # Train the model\n",
    "        model.fit(X_train, y_train)\n",
    "        \n",
    "        # Predictions on training and validation sets\n",
    "        y_train_pred = model.predict(X_train)\n",
    "        y_val_pred = model.predict(X_val)\n",
    "        y_test_pred = model.predict(X_test)\n",
    "        \n",
    "        # Calculate RMSE for training and validation sets\n",
    "        train_rmse = rmse(y_train, y_train_pred)\n",
    "        val_rmse = rmse(y_val, y_val_pred)\n",
    "        test_rmse = rmse(y_test, y_test_pred)\n",
    "        \n",
    "        # Store the results\n",
    "        results[name] = {'Train RMSE': train_rmse, 'Validation RMSE': val_rmse, 'Test RMSE': test_rmse}\n",
    "        print(f\"{name} - Train RMSE: {train_rmse}, Validation RMSE: {val_rmse}, Test RMSE: {test_rmse}\")\n",
    "    \n",
    "    return pd.DataFrame(results).T"
   ]
  },
  {
   "cell_type": "code",
   "execution_count": 35,
   "id": "da23f505-370e-4338-966c-e0bfa71afc98",
   "metadata": {},
   "outputs": [],
   "source": [
    "models = {\n",
    "    'Linear Regression': LinearRegression(),\n",
    "    'ElasticNet': ElasticNet(),\n",
    "    'Decision Tree': DecisionTreeRegressor(),\n",
    "    # 'AdaBoost': AdaBoostRegressor(),\n",
    "    'XGBoost': xgb.XGBRegressor(),\n",
    "    'LightGBM': lgb.LGBMRegressor()\n",
    "}"
   ]
  },
  {
   "cell_type": "markdown",
   "id": "3ce38d86-aeb5-47e8-9973-807b686c22f4",
   "metadata": {},
   "source": [
    "20% data"
   ]
  },
  {
   "cell_type": "code",
   "execution_count": 16,
   "id": "04fb4f68-ca24-4a2c-a5fa-d4ce549311cd",
   "metadata": {},
   "outputs": [
    {
     "name": "stdout",
     "output_type": "stream",
     "text": [
      "Linear Regression - Train RMSE: 8.793064711944254, Validation RMSE: 8.615876570766103, Test RMSE: 9.7517968576874\n",
      "ElasticNet - Train RMSE: 9.08791713840053, Validation RMSE: 8.88647531886048, Test RMSE: 10.034485762227293\n",
      "Decision Tree - Train RMSE: 4.7407626506080605e-17, Validation RMSE: 9.627809981763969, Test RMSE: 10.953607280715385\n",
      "XGBoost - Train RMSE: 8.024782620004522, Validation RMSE: 7.971787317244758, Test RMSE: 8.708550658571044\n",
      "[LightGBM] [Info] Auto-choosing row-wise multi-threading, the overhead of testing was 0.019406 seconds.\n",
      "You can set `force_row_wise=true` to remove the overhead.\n",
      "And if memory is not enough, you can set `force_col_wise=true`.\n",
      "[LightGBM] [Info] Total Bins 333\n",
      "[LightGBM] [Info] Number of data points in the train set: 4860896, number of used features: 8\n",
      "[LightGBM] [Info] Start training from score 4.097789\n",
      "LightGBM - Train RMSE: 8.130337901979562, Validation RMSE: 8.061476138584686, Test RMSE: 9.006700057690841\n",
      "                     Train RMSE  Validation RMSE  Test RMSE\n",
      "Linear Regression  8.793065e+00         8.615877   9.751797\n",
      "ElasticNet         9.087917e+00         8.886475  10.034486\n",
      "Decision Tree      4.740763e-17         9.627810  10.953607\n",
      "XGBoost            8.024783e+00         7.971787   8.708551\n",
      "LightGBM           8.130338e+00         8.061476   9.006700\n"
     ]
    }
   ],
   "source": [
    "results = train_and_evaluate(models, X_train, y_train, X_val, y_val, X_test, y_test)\n",
    "print(results)"
   ]
  },
  {
   "cell_type": "markdown",
   "id": "ff14ac2c-decd-4361-ab4f-33dfa7aa0776",
   "metadata": {},
   "source": [
    "40% training data"
   ]
  },
  {
   "cell_type": "code",
   "execution_count": 25,
   "id": "db18adc8-3aad-419c-aa17-8e36b9cbad17",
   "metadata": {},
   "outputs": [
    {
     "name": "stdout",
     "output_type": "stream",
     "text": [
      "Linear Regression - Train RMSE: 8.836159620996066, Validation RMSE: 8.668901508902156, Test RMSE: 9.753320269815749\n",
      "ElasticNet - Train RMSE: 9.129077423784018, Validation RMSE: 8.957881942111001, Test RMSE: 10.03653655196235\n",
      "Decision Tree - Train RMSE: 4.622067298393757e-17, Validation RMSE: 9.199770890295138, Test RMSE: 10.675047290513044\n",
      "XGBoost - Train RMSE: 8.116208105910685, Validation RMSE: 7.992108653385777, Test RMSE: 8.822862602657834\n",
      "[LightGBM] [Info] Auto-choosing row-wise multi-threading, the overhead of testing was 0.037049 seconds.\n",
      "You can set `force_row_wise=true` to remove the overhead.\n",
      "And if memory is not enough, you can set `force_col_wise=true`.\n",
      "[LightGBM] [Info] Total Bins 333\n",
      "[LightGBM] [Info] Number of data points in the train set: 9721793, number of used features: 8\n",
      "[LightGBM] [Info] Start training from score 4.101612\n",
      "LightGBM - Train RMSE: 8.21952771707973, Validation RMSE: 8.083485489810728, Test RMSE: 8.981273910896729\n",
      "                     Train RMSE  Validation RMSE  Test RMSE\n",
      "Linear Regression  8.836160e+00         8.668902   9.753320\n",
      "ElasticNet         9.129077e+00         8.957882  10.036537\n",
      "Decision Tree      4.622067e-17         9.199771  10.675047\n",
      "XGBoost            8.116208e+00         7.992109   8.822863\n",
      "LightGBM           8.219528e+00         8.083485   8.981274\n"
     ]
    }
   ],
   "source": [
    "results_1 = train_and_evaluate(models, X_train, y_train, X_val, y_val, X_test, y_test)\n",
    "print(results_1)"
   ]
  },
  {
   "cell_type": "markdown",
   "id": "229cee7c-0ab9-4410-a968-710be8082c94",
   "metadata": {},
   "source": [
    "60% training data"
   ]
  },
  {
   "cell_type": "code",
   "execution_count": 36,
   "id": "2305372e-8112-4d61-be0d-d69428d0d8a6",
   "metadata": {},
   "outputs": [
    {
     "name": "stdout",
     "output_type": "stream",
     "text": [
      "Linear Regression - Train RMSE: 8.816224522479516, Validation RMSE: 8.755906411582133, Test RMSE: 9.753503945408692\n",
      "ElasticNet - Train RMSE: 9.108715396030968, Validation RMSE: 9.046492615645578, Test RMSE: 10.0375584340897\n",
      "Decision Tree - Train RMSE: 4.408134196468292e-17, Validation RMSE: 9.043207411742186, Test RMSE: 10.58928996444265\n",
      "XGBoost - Train RMSE: 8.094090687242801, Validation RMSE: 8.086534600532271, Test RMSE: 8.695374841821373\n",
      "[LightGBM] [Info] Auto-choosing row-wise multi-threading, the overhead of testing was 0.053410 seconds.\n",
      "You can set `force_row_wise=true` to remove the overhead.\n",
      "And if memory is not enough, you can set `force_col_wise=true`.\n",
      "[LightGBM] [Info] Total Bins 333\n",
      "[LightGBM] [Info] Number of data points in the train set: 14582690, number of used features: 8\n",
      "[LightGBM] [Info] Start training from score 4.100991\n",
      "LightGBM - Train RMSE: 8.207400826243104, Validation RMSE: 8.181724101262898, Test RMSE: 8.928876827424633\n",
      "                     Train RMSE  Validation RMSE  Test RMSE\n",
      "Linear Regression  8.816225e+00         8.755906   9.753504\n",
      "ElasticNet         9.108715e+00         9.046493  10.037558\n",
      "Decision Tree      4.408134e-17         9.043207  10.589290\n",
      "XGBoost            8.094091e+00         8.086535   8.695375\n",
      "LightGBM           8.207401e+00         8.181724   8.928877\n"
     ]
    }
   ],
   "source": [
    "results_2 = train_and_evaluate(models, X_train, y_train, X_val, y_val, X_test, y_test)\n",
    "print(results_2)"
   ]
  },
  {
   "cell_type": "markdown",
   "id": "40c80f73-598b-4994-b5e7-60b0833b9aa6",
   "metadata": {},
   "source": [
    "80% training data"
   ]
  },
  {
   "cell_type": "code",
   "execution_count": 16,
   "id": "86375942-ec34-4044-877e-5c596db8b50b",
   "metadata": {},
   "outputs": [
    {
     "name": "stdout",
     "output_type": "stream",
     "text": [
      "Linear Regression - Train RMSE: 8.796069368976394, Validation RMSE: 8.801307196665107, Test RMSE: 9.752984224547916\n",
      "ElasticNet - Train RMSE: 9.090472075815525, Validation RMSE: 9.094848393606206, Test RMSE: 10.038057217032579\n",
      "Decision Tree - Train RMSE: 4.27360386428157e-17, Validation RMSE: 8.952985536438257, Test RMSE: 10.521419415153748\n",
      "XGBoost - Train RMSE: 8.06508732795485, Validation RMSE: 8.084722470417498, Test RMSE: 8.640922301651479\n",
      "[LightGBM] [Info] Auto-choosing row-wise multi-threading, the overhead of testing was 0.251099 seconds.\n",
      "You can set `force_row_wise=true` to remove the overhead.\n",
      "And if memory is not enough, you can set `force_col_wise=true`.\n",
      "[LightGBM] [Info] Total Bins 343\n",
      "[LightGBM] [Info] Number of data points in the train set: 19443587, number of used features: 12\n",
      "[LightGBM] [Info] Start training from score 4.101842\n",
      "LightGBM - Train RMSE: 8.193124017611431, Validation RMSE: 8.210556140354118, Test RMSE: 8.93857857205692\n",
      "                     Train RMSE  Validation RMSE  Test RMSE\n",
      "Linear Regression  8.796069e+00         8.801307   9.752984\n",
      "ElasticNet         9.090472e+00         9.094848  10.038057\n",
      "Decision Tree      4.273604e-17         8.952986  10.521419\n",
      "XGBoost            8.065087e+00         8.084722   8.640922\n",
      "LightGBM           8.193124e+00         8.210556   8.938579\n"
     ]
    }
   ],
   "source": [
    "results_3 = train_and_evaluate(models, X_train, y_train, X_val, y_val, X_test, y_test)\n",
    "print(results_3)"
   ]
  },
  {
   "cell_type": "code",
   "execution_count": null,
   "id": "3d00ec17-552d-4598-b6ea-2c50ef10cff5",
   "metadata": {},
   "outputs": [],
   "source": []
  }
 ],
 "metadata": {
  "kernelspec": {
   "display_name": "Python 3 (ipykernel)",
   "language": "python",
   "name": "python3"
  },
  "language_info": {
   "codemirror_mode": {
    "name": "ipython",
    "version": 3
   },
   "file_extension": ".py",
   "mimetype": "text/x-python",
   "name": "python",
   "nbconvert_exporter": "python",
   "pygments_lexer": "ipython3",
   "version": "3.11.4"
  }
 },
 "nbformat": 4,
 "nbformat_minor": 5
}
